{
 "cells": [
  {
   "cell_type": "code",
   "execution_count": null,
   "metadata": {},
   "outputs": [],
   "source": [
    "# range = 1 - 100\n",
    "# limited trial = 5\n",
    "\n",
    "# correct? \n",
    "# if not, > or <\n",
    "\n",
    "# count the no of chance remainning\n",
    "\n",
    "Plesae input an integer (1 -100, 5 chances)"
   ]
  },
  {
   "cell_type": "code",
   "execution_count": 2,
   "metadata": {},
   "outputs": [
    {
     "data": {
      "text/plain": [
       "True"
      ]
     },
     "execution_count": 2,
     "metadata": {},
     "output_type": "execute_result"
    }
   ],
   "source": [
    "\"123\".isdigit()"
   ]
  },
  {
   "cell_type": "code",
   "execution_count": 2,
   "metadata": {},
   "outputs": [],
   "source": [
    "import random"
   ]
  },
  {
   "cell_type": "code",
   "execution_count": null,
   "metadata": {},
   "outputs": [],
   "source": [
    "ans = random.randint(1,100)"
   ]
  },
  {
   "cell_type": "code",
   "execution_count": null,
   "metadata": {},
   "outputs": [],
   "source": []
  },
  {
   "cell_type": "code",
   "execution_count": 16,
   "metadata": {},
   "outputs": [],
   "source": [
    "def get_user_input(lower_bound, upper_bound, count):\n",
    "    \n",
    "    \n",
    "    while True:\n",
    "        \n",
    "        z = input (\"please enter a number {} - {}, {} chances: \".format(lower_bound, upper_bound, count))\n",
    "        y = int(z)\n",
    "        \n",
    "        if z.isdigit():\n",
    "        \n",
    "            if (y>= lower_bound) and (y <= upper_bound):\n",
    "                return y"
   ]
  },
  {
   "cell_type": "code",
   "execution_count": 17,
   "metadata": {},
   "outputs": [],
   "source": [
    "def check_ans(user_input, ans, isCorrect):\n",
    "\n",
    "    if user_input == ans:\n",
    "        isCorrect = True\n",
    "    \n",
    "                \n",
    "    return isCorrect"
   ]
  },
  {
   "cell_type": "code",
   "execution_count": 19,
   "metadata": {},
   "outputs": [
    {
     "name": "stdout",
     "output_type": "stream",
     "text": [
      "please enter a number 1 - 100, 5 chances: 34\n",
      "please enter a number 35 - 100, 4 chances: 76\n",
      "please enter a number 35 - 75, 3 chances: 56\n",
      "please enter a number 57 - 75, 2 chances: 78\n",
      "please enter a number 57 - 75, 2 chances: 66\n",
      "please enter a number 57 - 65, 1 chances: 60\n",
      "you win!\n",
      "---Game Over---\n"
     ]
    }
   ],
   "source": [
    "ans = random.randint(1,100)\n",
    "k = 5\n",
    "lower_bound = 1\n",
    "upper_bound = 100\n",
    "count = 5\n",
    "isCorrect = False\n",
    "\n",
    "for i in range(k):\n",
    "\n",
    "# get user input\n",
    "    user_input = get_user_input(lower_bound, upper_bound, count)\n",
    "\n",
    "# check ans\n",
    "    isCorrect = check_ans(user_input, ans, isCorrect)\n",
    "\n",
    "    count -= 1\n",
    "\n",
    "    if isCorrect:\n",
    "        \n",
    "        print (\"you win!\")\n",
    "        break\n",
    "        \n",
    "    elif user_input > ans:\n",
    "            upper_bound = user_input - 1\n",
    "    else:\n",
    "            lower_bound = user_input + 1    \n",
    "             \n",
    "        \n",
    "print (\"---Game Over---\")"
   ]
  },
  {
   "cell_type": "code",
   "execution_count": null,
   "metadata": {},
   "outputs": [],
   "source": []
  }
 ],
 "metadata": {
  "kernelspec": {
   "display_name": "Python 3",
   "language": "python",
   "name": "python3"
  },
  "language_info": {
   "codemirror_mode": {
    "name": "ipython",
    "version": 3
   },
   "file_extension": ".py",
   "mimetype": "text/x-python",
   "name": "python",
   "nbconvert_exporter": "python",
   "pygments_lexer": "ipython3",
   "version": "3.8.5"
  }
 },
 "nbformat": 4,
 "nbformat_minor": 4
}
